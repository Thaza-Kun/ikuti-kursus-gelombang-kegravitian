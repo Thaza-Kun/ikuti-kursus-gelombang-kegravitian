{
 "cells": [
  {
   "cell_type": "markdown",
   "metadata": {},
   "source": [
    "# TUTORIAL 1.1 | Meminta Data Dari GWOSC\n",
    "Penulis: Murthadza bin Aznam</br>\n",
    "Tarikh: 2021-12-04\n",
    "\n",
    "---"
   ]
  },
  {
   "cell_type": "markdown",
   "metadata": {},
   "source": [
    "## 0.0 MATLAMAT\n",
    "1. Kita ingin mencari cara meminta maklumat berkaitan data yang disimpan oleh [_Gravitational-Wave Open Science Center_ (GWOSC)](https://www.gw-openscience.org).\n",
    "    - Nama peristiwa\n",
    "    - Masa peristiwa\n",
    "    - Sela masa sesi cerapan\n",
    "    - URL data peristiwa\n",
    "\n",
    "---"
   ]
  },
  {
   "cell_type": "markdown",
   "metadata": {},
   "source": [
    "## 1.0 Pakej GWOSC\n",
    "\n",
    "Pakej `gwosc` diperlukan untuk meminta data dari GWOSC."
   ]
  },
  {
   "cell_type": "code",
   "execution_count": 1,
   "metadata": {},
   "outputs": [],
   "source": [
    "import gwosc"
   ]
  },
  {
   "cell_type": "markdown",
   "metadata": {},
   "source": [
    "## 1.1 Mencari Data Menggunakan `find_datasets`\n",
    "\n",
    "Funsgi `gwosc.datasets.find_datasets()` boleh digunakan untuk meminta maklumat tentang data yang disimpan oleh GWOSC.\n",
    "- Data-data bersih diasingkan mengikut katalog yang berbeza.\n",
    "- Dalam setiap katalog pula ada senarai data untuk peristiwa gelombang kegravitian yang berbeza."
   ]
  },
  {
   "cell_type": "code",
   "execution_count": 3,
   "metadata": {},
   "outputs": [
    {
     "name": "stdout",
     "output_type": "stream",
     "text": [
      "Katalog-katalog yang disimpan oleh GWOSC\n",
      "['GWTC-1-confident', 'GWTC-1-marginal', 'GWTC-2', 'GWTC-2.1-confident', 'GWTC-2.1-marginal', 'GWTC-3-confident', 'GWTC-3-marginal', 'Initial_LIGO_Virgo', 'O1_O2-Preliminary', 'O3_Discovery_Papers', 'O3_IMBH_marginal']\n",
      "\n",
      "Katalog yang dipilih\t\t\t\t: GWTC-1-confident\n",
      "Senarai peristiwa dalam katalog tersebut\t:-\n",
      "['GW150914-v3', 'GW151012-v3', 'GW151226-v2', 'GW170104-v2', 'GW170608-v3', 'GW170729-v1', 'GW170809-v1', 'GW170814-v3', 'GW170817-v3', 'GW170818-v1', 'GW170823-v1']\n",
      "\n"
     ]
    }
   ],
   "source": [
    "from gwosc.datasets import find_datasets\n",
    "\n",
    "#-- Meminta senarai katalog\n",
    "print(\"Katalog-katalog yang disimpan oleh GWOSC\")\n",
    "print(catalogs := find_datasets(type=\"catalog\"))\n",
    "print(\"\")\n",
    "\n",
    "#-- Meminta senarai peristiwa yang tersimpan dalam katalog yang dipilih\n",
    "#-- (Cuba ubah nombor indeks)\n",
    "catalog_name = catalogs[0]\n",
    "gwtc1 = find_datasets(type=\"events\", catalog=catalog_name)\n",
    "print(f\"Katalog yang dipilih\\t\\t\\t\\t: {catalog_name}\")\n",
    "print(f\"Senarai peristiwa dalam katalog tersebut\\t:-\\n{gwtc1}\")\n",
    "print(\"\")"
   ]
  },
  {
   "cell_type": "markdown",
   "metadata": {},
   "source": [
    "Kita boleh gunakan parameter-parameter tambahan dalam `find_datasets()` untuk mengecilkan lagi skop carian"
   ]
  },
  {
   "cell_type": "code",
   "execution_count": 4,
   "metadata": {},
   "outputs": [
    {
     "name": "stdout",
     "output_type": "stream",
     "text": [
      "['GW170104-v2', 'GW170608-v3', 'GW170729-v1', 'GW170809-v1', 'GW170814-v3', 'GW170817-v3', 'GW170818-v1', 'GW170823-v1']\n"
     ]
    }
   ],
   "source": [
    "print(\n",
    "    find_datasets(\n",
    "        type='events', \n",
    "        catalog='GWTC-1-confident', \n",
    "        detector=\"L1\", \n",
    "        segment=(1164556817, 1187733618)\n",
    "        )\n",
    "    )"
   ]
  },
  {
   "cell_type": "markdown",
   "metadata": {},
   "source": [
    "## 1.2 Meminta Data Masa Peristiwa\n",
    "\n",
    "`gwosc.datasets.event_gps` akan memulangkan masa cerapan peristiwa dalam format GPS"
   ]
  },
  {
   "cell_type": "code",
   "execution_count": 12,
   "metadata": {},
   "outputs": [
    {
     "name": "stdout",
     "output_type": "stream",
     "text": [
      "Masa cerapan peristiwa GW150914-v3 ialah 1126259462.4\n"
     ]
    }
   ],
   "source": [
    "from gwosc.datasets import event_gps\n",
    "\n",
    "event_name = gwtc1[0]\n",
    "print(f\"Masa cerapan peristiwa {event_name} ialah {event_gps(event_name)}\")"
   ]
  },
  {
   "cell_type": "markdown",
   "metadata": {},
   "source": [
    "Modul <a href=\"https://gwpy.github.io/docs/stable/time/\"><code>gwpy.time</code></a> boleh digunakan untuk tukar format masa dari GPS ke masa yang mudah dibaca."
   ]
  },
  {
   "cell_type": "code",
   "execution_count": 11,
   "metadata": {},
   "outputs": [
    {
     "name": "stdout",
     "output_type": "stream",
     "text": [
      "1126259462.4 => 2015-09-14 09:50:45.400000\n",
      "Peristiwa GW150914-v3 berlaku pada 2015-09-14 09:50:45.400000\n"
     ]
    }
   ],
   "source": [
    "from gwpy.time import tconvert\n",
    "\n",
    "print(gps_time := event_gps(event_name), \"=>\", readable_time := tconvert(gps_time))\n",
    "print(f\"Peristiwa {event_name} berlaku pada {readable_time}\")"
   ]
  },
  {
   "cell_type": "markdown",
   "metadata": {},
   "source": [
    "## 1.3 Meminta Selang Masa Satu Sesi Cerapan\n",
    "\n",
    "Sesi cerapan boleh diminta menggunakan `find_datasets()` dengan mengkhususkan parameter `type='run'`."
   ]
  },
  {
   "cell_type": "code",
   "execution_count": 13,
   "metadata": {},
   "outputs": [
    {
     "name": "stdout",
     "output_type": "stream",
     "text": [
      "(1180911618, 1180982427)\n"
     ]
    }
   ],
   "source": [
    "from gwosc.datasets import run_segment\n",
    "\n",
    "runs = find_datasets(type='run')\n",
    "observation_run_name = runs[0]\n",
    "print(run_segment(observation_run_name))"
   ]
  },
  {
   "cell_type": "markdown",
   "metadata": {},
   "source": [
    "## 1.4 Meminta URL Data"
   ]
  },
  {
   "cell_type": "code",
   "execution_count": 25,
   "metadata": {},
   "outputs": [
    {
     "name": "stdout",
     "output_type": "stream",
     "text": [
      "URL untuk peristiwa GW150914-v3 ialah:\n",
      "https://www.gw-openscience.org/eventapi/json/GWTC-1-confident/GW150914/v3/H-H1_GWOSC_4KHZ_R1-1126259447-32.hdf5\n",
      "https://www.gw-openscience.org/eventapi/json/GWTC-1-confident/GW150914/v3/H-H1_GWOSC_4KHZ_R1-1126257415-4096.hdf5\n",
      "https://www.gw-openscience.org/eventapi/json/GWTC-1-confident/GW150914/v3/L-L1_GWOSC_4KHZ_R1-1126259447-32.hdf5\n",
      "https://www.gw-openscience.org/eventapi/json/GWTC-1-confident/GW150914/v3/L-L1_GWOSC_4KHZ_R1-1126257415-4096.hdf5\n"
     ]
    }
   ],
   "source": [
    "from gwosc.locate import get_event_urls\n",
    "\n",
    "urls = get_event_urls(event_name)\n",
    "print(f\"URL untuk peristiwa {event_name} ialah:\")\n",
    "print(*urls, sep=\"\\n\")"
   ]
  },
  {
   "cell_type": "code",
   "execution_count": null,
   "metadata": {},
   "outputs": [],
   "source": []
  }
 ],
 "metadata": {
  "interpreter": {
   "hash": "9a72dd1ce898b52c2810e6ad3919609d68945007fe6bfc668f136861e551e5c2"
  },
  "kernelspec": {
   "display_name": "Python 3.10.0 64-bit ('gwpy': conda)",
   "language": "python",
   "name": "python3"
  },
  "language_info": {
   "codemirror_mode": {
    "name": "ipython",
    "version": 3
   },
   "file_extension": ".py",
   "mimetype": "text/x-python",
   "name": "python",
   "nbconvert_exporter": "python",
   "pygments_lexer": "ipython3",
   "version": "3.10.0"
  },
  "orig_nbformat": 4
 },
 "nbformat": 4,
 "nbformat_minor": 2
}
